{
 "cells": [
  {
   "cell_type": "code",
   "execution_count": null,
   "metadata": {},
   "outputs": [],
   "source": [
    "from selenium import webdriver\n",
    "\n",
    "fn = 'file.txt'\n",
    "\n",
    "options = webdriver.ChromeOptions()\n",
    "options.add_argument('--headless')\n",
    "\n",
    "driver = webdriver.Chrome(chrome_options=options)\n",
    "with open(fn) as file_obj:\n",
    "    for line in file_obj:\n",
    "        s = line.split(' ')\n",
    "        url = \"http://140.130.81.95/cgi-bin/ipquery.cgi?&date=20211218&ip3=\" + s[1] + \"&ip4=\" + s[2]\n",
    "        response = driver.get(url)\n",
    "\n",
    "        result = driver.find_elements_by_tag_name('table')\n",
    "        result = driver.find_elements_by_tag_name('tr')\n",
    "\n",
    "        tdlist = result[1].find_elements_by_tag_name('td')\n",
    "        for col in tdlist:\n",
    "            print(col.text + '\\t', end='')\n",
    "        if(len(tdlist) > 0):\n",
    "            print('\\n', end='')\n"
   ]
  },
  {
   "cell_type": "code",
   "execution_count": null,
   "metadata": {},
   "outputs": [],
   "source": [
    "import bs4\n",
    "import requests\n",
    "\n",
    "fn = 'file.txt'\n",
    "with open(fn) as file_obj:\n",
    "    file_list = file_obj.readlines()\n",
    "    for line in file_list:\n",
    "        remove_space = line.split(' ')\n",
    "        headers = {'content-type': 'text/html; charset=UTF-8',\n",
    "                   'User-Agent': 'Mozilla/5.0 (Windows NT 10.0; Win64; x64) \\\n",
    "    AppleWebKit/537.36 (KHTML, like Gecko) Chrome/96.0.4664.45 Safari/537.36'}\n",
    "        ip3 = remove_space[1]\n",
    "        remove_EOF = remove_space[2].split('\\n')\n",
    "        ip4 = remove_EOF[0]\n",
    "        print(remove_space[0], \" Ip = 10.10.\" + ip3 + '.' + ip4, end='')\n",
    "        url = \"http://140.130.81.95/cgi-bin/ipquery.cgi?&date=20211217&ip3=\" + ip3 + \"&ip4=\" + ip4\n",
    "        response = requests.get(url)\n",
    "        if response.status_code == requests.codes.ok:\n",
    "            soup = bs4.BeautifulSoup(response.text, \"lxml\")\n",
    "            result = soup.find_all(\"td\")\n",
    "            counter = 0\n",
    "            for tag in result:\n",
    "                counter += 1\n",
    "                if(counter == 4):\n",
    "                    print(\" Flow = \", tag.string)\n",
    "            if(counter == 0):\n",
    "                print(\" Flow =  0\")\n",
    "        else:\n",
    "            print(\"Fail to fatch content.\")\n"
   ]
  }
 ],
 "metadata": {
  "interpreter": {
   "hash": "b3ba2566441a7c06988d0923437866b63cedc61552a5af99d1f4fb67d367b25f"
  },
  "kernelspec": {
   "display_name": "Python 3.9.7 64-bit ('base': conda)",
   "language": "python",
   "name": "python3"
  },
  "language_info": {
   "codemirror_mode": {
    "name": "ipython",
    "version": 3
   },
   "file_extension": ".py",
   "mimetype": "text/x-python",
   "name": "python",
   "nbconvert_exporter": "python",
   "pygments_lexer": "ipython3",
   "version": "3.9.7"
  },
  "orig_nbformat": 4
 },
 "nbformat": 4,
 "nbformat_minor": 2
}
